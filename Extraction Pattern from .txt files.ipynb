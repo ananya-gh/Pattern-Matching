{
 "cells": [
  {
   "cell_type": "markdown",
   "id": "d56faee4",
   "metadata": {},
   "source": [
    "## Pattern Extraction using Python"
   ]
  },
  {
   "cell_type": "code",
   "execution_count": 10,
   "id": "c91b3f78",
   "metadata": {},
   "outputs": [],
   "source": [
    "import os\n",
    "import re\n",
    "import pandas as pd\n",
    "\n",
    "def extract_numbers_from_files(directory):\n",
    "    # Regex pattern to match numbers in 3-2-4 format\n",
    "    pattern = r'\\b\\d{3}-\\d{2}-\\d{4}\\b'\n",
    "    \n",
    "    # List to store the results as tuples (filename, matched_number)\n",
    "    results = []\n",
    "    \n",
    "    # Iterate over each file in the specified directory\n",
    "    for filename in os.listdir(directory):\n",
    "        if filename.endswith(\".txt\"):  # Check if the file is a .txt file\n",
    "            file_path = os.path.join(directory, filename)\n",
    "            with open(file_path, 'r', encoding='utf-8') as file:\n",
    "                file_contents = file.read()\n",
    "                # Find all matches in the file\n",
    "                matches = re.findall(pattern, file_contents)\n",
    "                # Add each match with the filename to the results list\n",
    "                for match in matches:\n",
    "                    results.append((filename, match))\n",
    "    \n",
    "    return results\n",
    "\n",
    "def write_to_excel(data, output_file):\n",
    "    # Convert the data to a DataFrame\n",
    "    df = pd.DataFrame(data, columns=['Filename', 'Data'])\n",
    "    # Write the DataFrame to an Excel file\n",
    "    df.to_excel(output_file,index=False)\n",
    "\n",
    "# Directory containing the .txt files\n",
    "directory = r'C:\\Users\\Ananya\\Downloads\\TEXT 2'\n",
    "# Output Excel file path\n",
    "output_excel =r'D:\\Desired Output Assignment\\PatternExtraction_output.xlsx'\n",
    "\n",
    "\n",
    "# Extract numbers and write to Excel\n",
    "extracted_data_pattern = extract_numbers_from_files(directory)\n",
    "write_to_excel(extracted_data_pattern, output_excel)"
   ]
  },
  {
   "cell_type": "code",
   "execution_count": 5,
   "id": "706cbb4e",
   "metadata": {},
   "outputs": [
    {
     "name": "stdout",
     "output_type": "stream",
     "text": [
      "Collecting xlsxwriter\n",
      "  Obtaining dependency information for xlsxwriter from https://files.pythonhosted.org/packages/a7/ea/53d1fe468e63e092cf16e2c18d16f50c29851242f9dd12d6a66e0d7f0d02/XlsxWriter-3.2.0-py3-none-any.whl.metadata\n",
      "  Downloading XlsxWriter-3.2.0-py3-none-any.whl.metadata (2.6 kB)\n",
      "Downloading XlsxWriter-3.2.0-py3-none-any.whl (159 kB)\n",
      "   ---------------------------------------- 0.0/159.9 kB ? eta -:--:--\n",
      "   -- ------------------------------------- 10.2/159.9 kB ? eta -:--:--\n",
      "   ------- ------------------------------- 30.7/159.9 kB 325.1 kB/s eta 0:00:01\n",
      "   ------------------- ------------------- 81.9/159.9 kB 657.6 kB/s eta 0:00:01\n",
      "   ---------------------------------------- 159.9/159.9 kB 1.1 MB/s eta 0:00:00\n",
      "Installing collected packages: xlsxwriter\n",
      "Successfully installed xlsxwriter-3.2.0\n",
      "Note: you may need to restart the kernel to use updated packages.\n"
     ]
    }
   ],
   "source": [
    "pip install xlsxwriter"
   ]
  },
  {
   "cell_type": "markdown",
   "id": "22b5e63b",
   "metadata": {},
   "source": [
    "## Keyword match using Python"
   ]
  },
  {
   "cell_type": "code",
   "execution_count": 11,
   "id": "7c5db206",
   "metadata": {},
   "outputs": [],
   "source": [
    "import os\n",
    "import re\n",
    "import pandas as pd\n",
    "\n",
    "def extract_terms_from_files(directory, terms):\n",
    "    # Constructing the regex pattern\n",
    "    pattern = r'\\b(?:' + '|'.join(terms) + r')\\b'\n",
    "    \n",
    "    # List to store the results as tuples (filename, matched_term)\n",
    "    results = []\n",
    "    \n",
    "    # Iterate over each file in the specified directory\n",
    "    for filename in os.listdir(directory):\n",
    "        if filename.endswith(\".txt\"):  # Check if the file is a .txt file\n",
    "            file_path = os.path.join(directory, filename)\n",
    "            with open(file_path, 'r', encoding='utf-8') as file:\n",
    "                file_contents = file.read()\n",
    "                # Find all matches in the file\n",
    "                matches = re.findall(pattern, file_contents,flags=re.IGNORECASE)\n",
    "                # Add each match with the filename to the results list\n",
    "                for match in matches:\n",
    "                    results.append((filename, match))\n",
    "    \n",
    "    return results\n",
    "\n",
    "def write_to_excel(data, output_file):\n",
    "    # Convert the data to a DataFrame\n",
    "    df = pd.DataFrame(data, columns=['Filename', 'Matched Term'])\n",
    "    # Write the DataFrame to an Excel file\n",
    "    df.to_excel(output_file,index=False)\n",
    "\n",
    "# Directory containing the .txt files\n",
    "directory = r'C:\\Users\\Ananya\\Downloads\\TEXT 2'\n",
    "# Output Excel file path\n",
    "output_excel = r'D:\\Desired Output Assignment\\KeywordExtraction_output.xlsx'\n",
    "\n",
    "# List of terms to search for\n",
    "search_terms = ['Student Id','Student Name','Student Grade','Grade','Roll Number','Roll No','SSN','Social Security Number','Social Security','Social Security Numbers','DOB','Date of Birth','DLN','DL','Driving License','Passport','Credit Card','CC','SIS','SIS ID','SID']\n",
    "\n",
    "# Extract terms and write to Excel\n",
    "extracted_data_keyword = extract_terms_from_files(directory, search_terms)\n",
    "write_to_excel(extracted_data_keyword, output_excel)"
   ]
  },
  {
   "cell_type": "code",
   "execution_count": null,
   "id": "62b63851",
   "metadata": {},
   "outputs": [],
   "source": []
  }
 ],
 "metadata": {
  "kernelspec": {
   "display_name": "Python 3 (ipykernel)",
   "language": "python",
   "name": "python3"
  },
  "language_info": {
   "codemirror_mode": {
    "name": "ipython",
    "version": 3
   },
   "file_extension": ".py",
   "mimetype": "text/x-python",
   "name": "python",
   "nbconvert_exporter": "python",
   "pygments_lexer": "ipython3",
   "version": "3.11.5"
  }
 },
 "nbformat": 4,
 "nbformat_minor": 5
}
